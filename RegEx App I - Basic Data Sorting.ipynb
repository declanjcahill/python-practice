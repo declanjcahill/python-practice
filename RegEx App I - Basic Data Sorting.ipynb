{
 "cells": [
  {
   "cell_type": "code",
   "execution_count": 4,
   "metadata": {},
   "outputs": [],
   "source": [
    "import re"
   ]
  },
  {
   "cell_type": "code",
   "execution_count": 2,
   "metadata": {},
   "outputs": [],
   "source": [
    "# download contents of a web page\n",
    "import requests\n",
    "html = requests.get('https://www.ssa.gov/oact/babynames/decades/century.html').text\n",
    "\n",
    "#html[:1000]\n",
    "#prints first 1000 characters of HTML request"
   ]
  },
  {
   "cell_type": "code",
   "execution_count": 20,
   "metadata": {},
   "outputs": [],
   "source": [
    "names = re.findall(r'<td >(.+?)</td> <td>(.+?)</td>', html)\n",
    "#finds all names and total babies with name in html request, non greedy request\n",
    "#names"
   ]
  },
  {
   "cell_type": "code",
   "execution_count": 21,
   "metadata": {},
   "outputs": [],
   "source": [
    "def make_int(x):\n",
    "    name, count = x\n",
    "    return (name, int(count.replace(',','')))           \n",
    "\n",
    "names = list(map(make_int, names))\n",
    "#converts string value of name count into int by taking out commas\n",
    "#names"
   ]
  },
  {
   "cell_type": "code",
   "execution_count": 30,
   "metadata": {},
   "outputs": [],
   "source": [
    "# Sort list of names alphabetically by name\n",
    "names.sort()\n",
    "#print('Sorted alphabetically: ')\n",
    "#names"
   ]
  },
  {
   "cell_type": "code",
   "execution_count": 39,
   "metadata": {},
   "outputs": [
    {
     "name": "stdout",
     "output_type": "stream",
     "text": [
      "Top 10 names by frequency: \n"
     ]
    },
    {
     "data": {
      "text/plain": [
       "[('James', 4700229),\n",
       " ('Robert', 4455696),\n",
       " ('John', 4453807),\n",
       " ('Michael', 4335919),\n",
       " ('William', 3564276),\n",
       " ('David', 3564053),\n",
       " ('Mary', 3196385),\n",
       " ('Richard', 2454407),\n",
       " ('Joseph', 2335792)]"
      ]
     },
     "execution_count": 39,
     "metadata": {},
     "output_type": "execute_result"
    }
   ],
   "source": [
    "# Sort list according to frequency high -> low\n",
    "names.sort(key=lambda x: x[1], reverse=True)\n",
    "print('Top 10 names by frequency: ')\n",
    "names[:9]"
   ]
  },
  {
   "cell_type": "code",
   "execution_count": 41,
   "metadata": {},
   "outputs": [
    {
     "name": "stdout",
     "output_type": "stream",
     "text": [
      "Top 10 names by frequency: \n"
     ]
    },
    {
     "data": {
      "text/html": [
       "<div>\n",
       "<style scoped>\n",
       "    .dataframe tbody tr th:only-of-type {\n",
       "        vertical-align: middle;\n",
       "    }\n",
       "\n",
       "    .dataframe tbody tr th {\n",
       "        vertical-align: top;\n",
       "    }\n",
       "\n",
       "    .dataframe thead th {\n",
       "        text-align: right;\n",
       "    }\n",
       "</style>\n",
       "<table border=\"1\" class=\"dataframe\">\n",
       "  <thead>\n",
       "    <tr style=\"text-align: right;\">\n",
       "      <th></th>\n",
       "      <th>Name</th>\n",
       "      <th>Frequency</th>\n",
       "    </tr>\n",
       "  </thead>\n",
       "  <tbody>\n",
       "    <tr>\n",
       "      <th>0</th>\n",
       "      <td>James</td>\n",
       "      <td>4700229</td>\n",
       "    </tr>\n",
       "    <tr>\n",
       "      <th>1</th>\n",
       "      <td>Robert</td>\n",
       "      <td>4455696</td>\n",
       "    </tr>\n",
       "    <tr>\n",
       "      <th>2</th>\n",
       "      <td>John</td>\n",
       "      <td>4453807</td>\n",
       "    </tr>\n",
       "    <tr>\n",
       "      <th>3</th>\n",
       "      <td>Michael</td>\n",
       "      <td>4335919</td>\n",
       "    </tr>\n",
       "    <tr>\n",
       "      <th>4</th>\n",
       "      <td>William</td>\n",
       "      <td>3564276</td>\n",
       "    </tr>\n",
       "    <tr>\n",
       "      <th>5</th>\n",
       "      <td>David</td>\n",
       "      <td>3564053</td>\n",
       "    </tr>\n",
       "    <tr>\n",
       "      <th>6</th>\n",
       "      <td>Mary</td>\n",
       "      <td>3196385</td>\n",
       "    </tr>\n",
       "    <tr>\n",
       "      <th>7</th>\n",
       "      <td>Richard</td>\n",
       "      <td>2454407</td>\n",
       "    </tr>\n",
       "    <tr>\n",
       "      <th>8</th>\n",
       "      <td>Joseph</td>\n",
       "      <td>2335792</td>\n",
       "    </tr>\n",
       "    <tr>\n",
       "      <th>9</th>\n",
       "      <td>Thomas</td>\n",
       "      <td>2151864</td>\n",
       "    </tr>\n",
       "  </tbody>\n",
       "</table>\n",
       "</div>"
      ],
      "text/plain": [
       "      Name  Frequency\n",
       "0    James    4700229\n",
       "1   Robert    4455696\n",
       "2     John    4453807\n",
       "3  Michael    4335919\n",
       "4  William    3564276\n",
       "5    David    3564053\n",
       "6     Mary    3196385\n",
       "7  Richard    2454407\n",
       "8   Joseph    2335792\n",
       "9   Thomas    2151864"
      ]
     },
     "execution_count": 41,
     "metadata": {},
     "output_type": "execute_result"
    }
   ],
   "source": [
    "#Convert list to pandas dataframe:\n",
    "import pandas \n",
    "df_names = pandas.DataFrame(names, columns=['Name','Frequency'])  \n",
    "print('Top 10 names by frequency: ')\n",
    "df_names.sort_values(by=['Frequency'],ascending=False).head(10)"
   ]
  }
 ],
 "metadata": {
  "kernelspec": {
   "display_name": "Python 3",
   "language": "python",
   "name": "python3"
  },
  "language_info": {
   "codemirror_mode": {
    "name": "ipython",
    "version": 3
   },
   "file_extension": ".py",
   "mimetype": "text/x-python",
   "name": "python",
   "nbconvert_exporter": "python",
   "pygments_lexer": "ipython3",
   "version": "3.8.5"
  }
 },
 "nbformat": 4,
 "nbformat_minor": 4
}
