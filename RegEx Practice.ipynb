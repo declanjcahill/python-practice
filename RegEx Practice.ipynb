{
 "cells": [
  {
   "cell_type": "code",
   "execution_count": 2,
   "metadata": {},
   "outputs": [],
   "source": [
    "import re"
   ]
  },
  {
   "cell_type": "code",
   "execution_count": 5,
   "metadata": {},
   "outputs": [
    {
     "data": {
      "text/plain": [
       "'(773)'"
      ]
     },
     "execution_count": 5,
     "metadata": {},
     "output_type": "execute_result"
    }
   ],
   "source": [
    "#finding area code in phone number string:\n",
    "text = '+1 (773) 202-5664'\n",
    "area_code = re.search(r'\\(\\d{3}\\)', text)\n",
    "area_code.group(0)"
   ]
  },
  {
   "cell_type": "code",
   "execution_count": 7,
   "metadata": {},
   "outputs": [
    {
     "data": {
      "text/plain": [
       "'.com'"
      ]
     },
     "execution_count": 7,
     "metadata": {},
     "output_type": "execute_result"
    }
   ],
   "source": [
    "#find top level domain in URL:\n",
    "url = 'http://linkedin.com/declanjcahill'\n",
    "m = re.search(r'\\.\\w{3}', url)\n",
    "m.group(0)"
   ]
  },
  {
   "cell_type": "code",
   "execution_count": 18,
   "metadata": {},
   "outputs": [
    {
     "name": "stdout",
     "output_type": "stream",
     "text": [
      "Stock tickers:  ['(F)', '(PIH)', '(ABMD)', '(MSFT)']\n"
     ]
    }
   ],
   "source": [
    "#find company tickers in:\n",
    "info = '''\n",
    "Ford Motor Co. (F) - NYSE\n",
    "Property Insurance Holdings, Inc. (PIH) - Property-Casualty Insurers\n",
    "ABIOMED, Inc. (ABMD) - Medical/Dental Instruments\n",
    "Microsoft Corp. (MSFT) - Software\n",
    "'''\n",
    "\n",
    "m = re.findall(r'\\([A-Z]+\\)', info)\n",
    "print('Stock tickers: ', m)"
   ]
  },
  {
   "cell_type": "code",
   "execution_count": 13,
   "metadata": {},
   "outputs": [
    {
     "name": "stdout",
     "output_type": "stream",
     "text": [
      "Greedy match:  <html><head><title>Title</title>\n",
      "Non Greedy:    <html>\n"
     ]
    }
   ],
   "source": [
    "#Greedy vs non-greedy searches:\n",
    "\n",
    "#greedy:\n",
    "import re\n",
    "s = '<html><head><title>Title</title>'\n",
    "# len(s)\n",
    "print('Greedy match: ', re.match('<.*>',s).group(0))  \n",
    "\n",
    "#non-greedy match:\n",
    "print('Non Greedy:   ', re.match('<.*?>',s).group(0))  \n",
    "# The '?' makes '*' non-greedy. The match stoped at the first '>'"
   ]
  },
  {
   "cell_type": "code",
   "execution_count": 22,
   "metadata": {
    "scrolled": true
   },
   "outputs": [
    {
     "name": "stdout",
     "output_type": "stream",
     "text": [
      "<re.Match object; span=(9, 13), match='wood'>\n",
      "['wood', 'wood']\n",
      "How much wooops would a woodchuck chuck if a woodchuck could chuck wooops?\n"
     ]
    }
   ],
   "source": [
    "#find all instances of the word ‘wood’:\n",
    "WC_tongue_twister = 'How much wood would a woodchuck chuck if a woodchuck could chuck wood?'\n",
    "m = re.search(r'\\bwood\\b', WC_tongue_twister)\n",
    "#searches for first 'wood' result\n",
    "print(m)\n",
    "\n",
    "m = re.findall(r'\\bwood\\b', WC_tongue_twister)\n",
    "#searches for all wood results\n",
    "print(m)\n",
    "\n",
    "m = re.sub(r'\\bwood\\b', r'wooops', WC_tongue_twister)\n",
    "#Replaces the word wood with wooops\n",
    "print(m)"
   ]
  },
  {
   "cell_type": "code",
   "execution_count": 25,
   "metadata": {},
   "outputs": [
    {
     "data": {
      "text/plain": [
       "'ab'"
      ]
     },
     "execution_count": 25,
     "metadata": {},
     "output_type": "execute_result"
    }
   ],
   "source": [
    "#Working with regex groups:\n",
    "\n",
    "m = re.match('(ab)c', 'abcde')\n",
    "m\n",
    "m.group(0) \n",
    "m.group(1)"
   ]
  }
 ],
 "metadata": {
  "kernelspec": {
   "display_name": "Python 3",
   "language": "python",
   "name": "python3"
  },
  "language_info": {
   "codemirror_mode": {
    "name": "ipython",
    "version": 3
   },
   "file_extension": ".py",
   "mimetype": "text/x-python",
   "name": "python",
   "nbconvert_exporter": "python",
   "pygments_lexer": "ipython3",
   "version": "3.8.5"
  }
 },
 "nbformat": 4,
 "nbformat_minor": 4
}
